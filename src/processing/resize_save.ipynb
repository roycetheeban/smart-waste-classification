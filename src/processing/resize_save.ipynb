{
  "nbformat": 4,
  "nbformat_minor": 0,
  "metadata": {
    "colab": {
      "provenance": []
    },
    "kernelspec": {
      "name": "python3",
      "display_name": "Python 3"
    },
    "language_info": {
      "name": "python"
    }
  },
  "cells": [
    {
      "cell_type": "code",
      "source": [
        "!pip install tqdm pillow\n",
        "from google.colab import drive\n",
        "drive.mount('/content/drive')"
      ],
      "metadata": {
        "id": "jrVrGvc3IDXm"
      },
      "execution_count": null,
      "outputs": []
    },
    {
      "cell_type": "markdown",
      "source": [
        "#### UNZIP AND SAVE"
      ],
      "metadata": {
        "id": "GFt7tGdMIbHm"
      }
    },
    {
      "cell_type": "code",
      "source": [
        "# For unzip and save in google drive\n",
        "# Define file paths\n",
        "zip_file_path = '/content/drive/My Drive/Turm.zip'  # Path to your zip file on Google Drive\n",
        "unzip_dir = '/content/drive/My Drive'  # Directory to unzip the file to\n",
        "\n",
        "# Check if the unzip directory exists, if not, create it\n",
        "if not os.path.exists(unzip_dir):\n",
        "    os.makedirs(unzip_dir)\n",
        "\n",
        "# Unzip the file\n",
        "with zipfile.ZipFile(zip_file_path, 'r') as zip_ref:\n",
        "    zip_ref.extractall(unzip_dir)\n",
        "\n",
        "print(f\"Unzipped file saved to: {unzip_dir}\")\n"
      ],
      "metadata": {
        "id": "jMPyq5CRIfyW"
      },
      "execution_count": null,
      "outputs": []
    },
    {
      "cell_type": "markdown",
      "source": [
        "#### Resize all images to 224x224 (standard for CNNs)\n",
        "\n",
        "#### Rotate portrait images\n",
        "\n",
        "#### Convert grayscale to RGB\n",
        "\n",
        "#### Skip corrupted images\n",
        "\n",
        "#### how progress for each category"
      ],
      "metadata": {
        "id": "lEFLxHyQIQZ4"
      }
    },
    {
      "cell_type": "code",
      "source": [],
      "metadata": {
        "id": "Pdtph4I5IIQf"
      },
      "execution_count": null,
      "outputs": []
    }
  ]
}